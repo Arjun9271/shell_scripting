{
 "cells": [
  {
   "cell_type": "code",
   "execution_count": null,
   "metadata": {
    "vscode": {
     "languageId": "plaintext"
    }
   },
   "outputs": [],
   "source": []
  },
  {
   "cell_type": "markdown",
   "metadata": {},
   "source": [
    "# Linux Commands Cheat Sheet\n",
    "\n",
    "## Basic File and Directory Commands\n",
    "- `ls`: List files and folders in the current directory.\n",
    "- `pwd`: Display the present working directory.\n",
    "- `cd [directory]`: Change the directory.\n",
    "- `ls -ltr`: List files with detailed properties (permissions, owner, size, timestamp).\n",
    "\n",
    "## File Operations\n",
    "- `touch [filename]`: Create an empty file.\n",
    "- `vi [filename]`: Create or edit a file using the `vi` editor.\n",
    "- `cat [filename]`: View the contents of a file.\n",
    "\n",
    "## Directory Operations\n",
    "- `mkdir [directory]`: Create a new directory.\n",
    "- `rm [filename]`: Remove a file.\n",
    "- `rm -r [directory]`: Remove a directory and its contents.\n",
    "\n",
    "## System Monitoring Commands\n",
    "- `free -m`: Display memory usage in MB.\n",
    "- `nproc`: Show the number of CPUs.\n",
    "- `df -h`: Show disk space usage in a human-readable format.\n",
    "- `top`: Display an interactive view of CPU, memory, and process usage.\n",
    "\n",
    "## Navigation Shortcuts\n",
    "- `cd ..`: Move up one directory.\n",
    "- `cd ../..`: Move up two directories.\n",
    "- `cd /path/to/directory`: Move directly to a specified directory.\n",
    "\n",
    "## File Permissions and Ownership\n",
    "- Use the `ls -ltr` command to view file permissions, ownership, and modification dates.\n",
    "\n",
    "---\n",
    "\n",
    "\n"
   ]
  },
  {
   "cell_type": "code",
   "execution_count": null,
   "metadata": {},
   "outputs": [],
   "source": []
  }
 ],
 "metadata": {
  "language_info": {
   "name": "python"
  }
 },
 "nbformat": 4,
 "nbformat_minor": 2
}
